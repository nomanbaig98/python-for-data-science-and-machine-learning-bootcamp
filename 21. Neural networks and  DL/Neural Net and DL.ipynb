{
 "cells": [
  {
   "cell_type": "markdown",
   "id": "608f345b",
   "metadata": {},
   "source": [
    "# NOTES"
   ]
  },
  {
   "cell_type": "code",
   "execution_count": 1,
   "id": "8b842ed4",
   "metadata": {},
   "outputs": [],
   "source": [
    "#multi-layer perceptron model is Artificial Neural Network ANN"
   ]
  },
  {
   "cell_type": "code",
   "execution_count": 2,
   "id": "5e273b0c",
   "metadata": {},
   "outputs": [],
   "source": [
    "#perceptron is known as neuron in short"
   ]
  },
  {
   "cell_type": "code",
   "execution_count": 3,
   "id": "66bc96fe",
   "metadata": {},
   "outputs": [],
   "source": [
    "#layers between input and output are hidden layers"
   ]
  },
  {
   "cell_type": "code",
   "execution_count": 4,
   "id": "85ceaa33",
   "metadata": {},
   "outputs": [],
   "source": [
    "#two or more hidden layers are known as deep neural networks"
   ]
  },
  {
   "cell_type": "code",
   "execution_count": 5,
   "id": "63e3549d",
   "metadata": {},
   "outputs": [],
   "source": [
    "#a neural network is simply a collection of Neurons(also known as activations)"
   ]
  },
  {
   "cell_type": "code",
   "execution_count": 6,
   "id": "f4e78630",
   "metadata": {},
   "outputs": [],
   "source": [
    "#The Universal Approximation Theorem tells us that Neural Networks has a kind of universality i.e. no matter what f(x) is,\n",
    "#there is a network that can approximately approach the result and do the job! \n",
    "#This result holds for any number of inputs and outputs."
   ]
  },
  {
   "cell_type": "code",
   "execution_count": 7,
   "id": "6da90010",
   "metadata": {},
   "outputs": [],
   "source": [
    "#an activation function is a function that is added into an artificial neural network\n",
    "#in order to help the network learn complex patterns in the data."
   ]
  },
  {
   "cell_type": "code",
   "execution_count": null,
   "id": "e66e495f",
   "metadata": {},
   "outputs": [],
   "source": []
  }
 ],
 "metadata": {
  "kernelspec": {
   "display_name": "Python 3 (ipykernel)",
   "language": "python",
   "name": "python3"
  },
  "language_info": {
   "codemirror_mode": {
    "name": "ipython",
    "version": 3
   },
   "file_extension": ".py",
   "mimetype": "text/x-python",
   "name": "python",
   "nbconvert_exporter": "python",
   "pygments_lexer": "ipython3",
   "version": "3.9.7"
  }
 },
 "nbformat": 4,
 "nbformat_minor": 5
}
