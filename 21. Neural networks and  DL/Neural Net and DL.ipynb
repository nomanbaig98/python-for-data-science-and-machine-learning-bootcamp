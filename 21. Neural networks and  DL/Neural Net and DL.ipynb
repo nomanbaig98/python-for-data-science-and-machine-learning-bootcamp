{
 "cells": [
  {
   "cell_type": "markdown",
   "id": "3d02fa4c",
   "metadata": {},
   "source": [
    "# NOTES"
   ]
  },
  {
   "cell_type": "code",
   "execution_count": 1,
   "id": "43cb20d0",
   "metadata": {},
   "outputs": [],
   "source": [
    "#multi-layer perceptron model is Artificial Neural Network ANN"
   ]
  },
  {
   "cell_type": "code",
   "execution_count": 2,
   "id": "795f7599",
   "metadata": {},
   "outputs": [],
   "source": [
    "#perceptron is known as neuron in short"
   ]
  },
  {
   "cell_type": "code",
   "execution_count": 3,
   "id": "13993b87",
   "metadata": {},
   "outputs": [],
   "source": [
    "#layers between input and output are hidden layers"
   ]
  },
  {
   "cell_type": "code",
   "execution_count": 4,
   "id": "c7b83d6b",
   "metadata": {},
   "outputs": [],
   "source": [
    "#two or more hidden layers are known as deep neural networks"
   ]
  },
  {
   "cell_type": "code",
   "execution_count": 5,
   "id": "30b6b240",
   "metadata": {},
   "outputs": [],
   "source": [
    "#a neural network is simply a collection of Neurons(also known as activations)"
   ]
  },
  {
   "cell_type": "code",
   "execution_count": 6,
   "id": "bd2ecc38",
   "metadata": {},
   "outputs": [],
   "source": [
    "#The Universal Approximation Theorem tells us that Neural Networks has a kind of universality i.e. no matter what f(x) is,\n",
    "#there is a network that can approximately approach the result and do the job! \n",
    "#This result holds for any number of inputs and outputs."
   ]
  },
  {
   "cell_type": "code",
   "execution_count": null,
   "id": "be31186e",
   "metadata": {},
   "outputs": [],
   "source": []
  }
 ],
 "metadata": {
  "kernelspec": {
   "display_name": "Python 3 (ipykernel)",
   "language": "python",
   "name": "python3"
  },
  "language_info": {
   "codemirror_mode": {
    "name": "ipython",
    "version": 3
   },
   "file_extension": ".py",
   "mimetype": "text/x-python",
   "name": "python",
   "nbconvert_exporter": "python",
   "pygments_lexer": "ipython3",
   "version": "3.9.7"
  }
 },
 "nbformat": 4,
 "nbformat_minor": 5
}
