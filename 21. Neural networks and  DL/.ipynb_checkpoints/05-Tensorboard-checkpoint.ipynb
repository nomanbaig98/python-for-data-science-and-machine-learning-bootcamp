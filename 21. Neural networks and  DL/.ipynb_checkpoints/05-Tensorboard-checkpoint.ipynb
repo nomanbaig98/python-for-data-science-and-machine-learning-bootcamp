{
 "cells": [
  {
   "cell_type": "markdown",
   "metadata": {},
   "source": [
    "# Tensorboard\n",
    "\n",
    "---\n",
    "---\n",
    "\n",
    "**NOTE: You must watch the corresponding video to understand this lecture. This notebook can't serve as a full guide. Please watch the video BEFORE posting questions to the QA forum.**\n",
    "\n",
    "---\n",
    "---\n",
    "\n",
    "Let's explore the built in data visualization capabilities that come with Tensorboard.\n",
    "\n",
    "Full official tutorial available here: https://www.tensorflow.org/tensorboard/get_started\n",
    "\n",
    "## Data"
   ]
  },
  {
   "cell_type": "code",
   "execution_count": 1,
   "metadata": {},
   "outputs": [],
   "source": [
    "import pandas as pd\n",
    "import numpy as np"
   ]
  },
  {
   "cell_type": "code",
   "execution_count": 3,
   "metadata": {},
   "outputs": [
    {
     "data": {
      "text/plain": [
       "'C:\\\\Users\\\\Noman Baig\\\\Documents\\\\python-for-data-science-and-machine-learning-bootcamp\\\\21. Neural networks and  DL'"
      ]
     },
     "execution_count": 3,
     "metadata": {},
     "output_type": "execute_result"
    }
   ],
   "source": [
    "pwd"
   ]
  },
  {
   "cell_type": "code",
   "execution_count": 4,
   "metadata": {},
   "outputs": [],
   "source": [
    "df = pd.read_csv('../21. Neural networks and  DL/TensorFlow_FILES/DATA/cancer_classification.csv')"
   ]
  },
  {
   "cell_type": "markdown",
   "metadata": {},
   "source": [
    "### Train Test Split"
   ]
  },
  {
   "cell_type": "code",
   "execution_count": 5,
   "metadata": {},
   "outputs": [],
   "source": [
    "X = df.drop('benign_0__mal_1',axis=1).values\n",
    "y = df['benign_0__mal_1'].values"
   ]
  },
  {
   "cell_type": "code",
   "execution_count": 6,
   "metadata": {},
   "outputs": [],
   "source": [
    "from sklearn.model_selection import train_test_split"
   ]
  },
  {
   "cell_type": "code",
   "execution_count": 7,
   "metadata": {},
   "outputs": [],
   "source": [
    "X_train, X_test, y_train, y_test = train_test_split(X,y,test_size=0.25,random_state=101)"
   ]
  },
  {
   "cell_type": "markdown",
   "metadata": {},
   "source": [
    "\n",
    "### Scaling Data"
   ]
  },
  {
   "cell_type": "code",
   "execution_count": 8,
   "metadata": {},
   "outputs": [],
   "source": [
    "from sklearn.preprocessing import MinMaxScaler"
   ]
  },
  {
   "cell_type": "code",
   "execution_count": 9,
   "metadata": {},
   "outputs": [],
   "source": [
    "scaler = MinMaxScaler()"
   ]
  },
  {
   "cell_type": "code",
   "execution_count": 10,
   "metadata": {},
   "outputs": [
    {
     "data": {
      "text/plain": [
       "MinMaxScaler()"
      ]
     },
     "execution_count": 10,
     "metadata": {},
     "output_type": "execute_result"
    }
   ],
   "source": [
    "scaler.fit(X_train)"
   ]
  },
  {
   "cell_type": "code",
   "execution_count": 11,
   "metadata": {},
   "outputs": [],
   "source": [
    "X_train = scaler.transform(X_train)\n",
    "X_test = scaler.transform(X_test)"
   ]
  },
  {
   "cell_type": "markdown",
   "metadata": {},
   "source": [
    "## Creating the Model"
   ]
  },
  {
   "cell_type": "code",
   "execution_count": 12,
   "metadata": {},
   "outputs": [],
   "source": [
    "import tensorflow as tf\n",
    "from tensorflow.keras.models import Sequential\n",
    "from tensorflow.keras.layers import Dense, Activation,Dropout"
   ]
  },
  {
   "cell_type": "code",
   "execution_count": 13,
   "metadata": {},
   "outputs": [],
   "source": [
    "from tensorflow.keras.callbacks import EarlyStopping,TensorBoard"
   ]
  },
  {
   "cell_type": "code",
   "execution_count": 14,
   "metadata": {},
   "outputs": [],
   "source": [
    "early_stop = EarlyStopping(monitor='val_loss', mode='min', verbose=1, patience=25)"
   ]
  },
  {
   "cell_type": "code",
   "execution_count": 15,
   "metadata": {},
   "outputs": [
    {
     "data": {
      "text/plain": [
       "'C:\\\\Users\\\\Noman Baig\\\\Documents\\\\python-for-data-science-and-machine-learning-bootcamp\\\\21. Neural networks and  DL'"
      ]
     },
     "execution_count": 15,
     "metadata": {},
     "output_type": "execute_result"
    }
   ],
   "source": [
    "pwd"
   ]
  },
  {
   "cell_type": "markdown",
   "metadata": {},
   "source": [
    "## Creating the Tensorboard Callback\n",
    "\n",
    "TensorBoard is a visualization tool provided with TensorFlow.\n",
    "\n",
    "This callback logs events for TensorBoard, including:\n",
    "* Metrics summary plots\n",
    "* Training graph visualization\n",
    "* Activation histograms\n",
    "* Sampled profiling\n",
    "\n",
    "If you have installed TensorFlow with pip, you should be able\n",
    "to launch TensorBoard from the command line:\n",
    "\n",
    "```sh\n",
    "tensorboard --logdir=path_to_your_logs\n",
    "```\n",
    "\n",
    "You can find more information about TensorBoard\n",
    "[here](https://www.tensorflow.org/tensorboard/).\n",
    "\n",
    "    Arguments:\n",
    "        log_dir: the path of the directory where to save the log files to be\n",
    "          parsed by TensorBoard.\n",
    "        histogram_freq: frequency (in epochs) at which to compute activation and\n",
    "          weight histograms for the layers of the model. If set to 0, histograms\n",
    "          won't be computed. Validation data (or split) must be specified for\n",
    "          histogram visualizations.\n",
    "        write_graph: whether to visualize the graph in TensorBoard. The log file\n",
    "          can become quite large when write_graph is set to True.\n",
    "        write_images: whether to write model weights to visualize as image in\n",
    "          TensorBoard.\n",
    "        update_freq: `'batch'` or `'epoch'` or integer. When using `'batch'`,\n",
    "          writes the losses and metrics to TensorBoard after each batch. The same\n",
    "          applies for `'epoch'`. If using an integer, let's say `1000`, the\n",
    "          callback will write the metrics and losses to TensorBoard every 1000\n",
    "          samples. Note that writing too frequently to TensorBoard can slow down\n",
    "          your training.\n",
    "        profile_batch: Profile the batch to sample compute characteristics. By\n",
    "          default, it will profile the second batch. Set profile_batch=0 to\n",
    "          disable profiling. Must run in TensorFlow eager mode.\n",
    "        embeddings_freq: frequency (in epochs) at which embedding layers will\n",
    "          be visualized. If set to 0, embeddings won't be visualized.\n",
    "       "
   ]
  },
  {
   "cell_type": "code",
   "execution_count": 16,
   "metadata": {},
   "outputs": [],
   "source": [
    "from datetime import datetime"
   ]
  },
  {
   "cell_type": "code",
   "execution_count": 17,
   "metadata": {},
   "outputs": [
    {
     "data": {
      "text/plain": [
       "'2022-10-20--0152'"
      ]
     },
     "execution_count": 17,
     "metadata": {},
     "output_type": "execute_result"
    }
   ],
   "source": [
    "datetime.now().strftime(\"%Y-%m-%d--%H%M\")"
   ]
  },
  {
   "cell_type": "code",
   "execution_count": 18,
   "metadata": {},
   "outputs": [],
   "source": [
    "# WINDOWS: Use \"logs\\\\fit\"\n",
    "# MACOS/LINUX: Use \"logs\\fit\"\n",
    "\n",
    "log_directory = 'logs\\\\fit'\n",
    "\n",
    "# OPTIONAL: ADD A TIMESTAMP FOR UNIQUE FOLDER\n",
    "# timestamp = datetime.now().strftime(\"%Y-%m-%d--%H%M\")\n",
    "# log_directory = log_directory + '\\\\' + timestamp\n",
    "\n",
    "\n",
    "board = TensorBoard(log_dir=log_directory,histogram_freq=1,\n",
    "    write_graph=True,\n",
    "    write_images=True,\n",
    "    update_freq='epoch',\n",
    "    profile_batch=2,\n",
    "    embeddings_freq=1)"
   ]
  },
  {
   "cell_type": "markdown",
   "metadata": {},
   "source": [
    "Now create the model layers:"
   ]
  },
  {
   "cell_type": "code",
   "execution_count": 19,
   "metadata": {},
   "outputs": [],
   "source": [
    "model = Sequential()\n",
    "model.add(Dense(units=30,activation='relu'))\n",
    "model.add(Dropout(0.5))\n",
    "model.add(Dense(units=15,activation='relu'))\n",
    "model.add(Dropout(0.5))\n",
    "model.add(Dense(units=1,activation='sigmoid'))\n",
    "model.compile(loss='binary_crossentropy', optimizer='adam')"
   ]
  },
  {
   "cell_type": "markdown",
   "metadata": {},
   "source": [
    "## Train the Model"
   ]
  },
  {
   "cell_type": "code",
   "execution_count": 20,
   "metadata": {},
   "outputs": [
    {
     "name": "stdout",
     "output_type": "stream",
     "text": [
      "Epoch 1/600\n",
      "14/14 [==============================] - 2s 50ms/step - loss: 0.7153 - val_loss: 0.6860\n",
      "Epoch 2/600\n",
      "14/14 [==============================] - 0s 16ms/step - loss: 0.6956 - val_loss: 0.6771\n",
      "Epoch 3/600\n",
      "14/14 [==============================] - 0s 17ms/step - loss: 0.6783 - val_loss: 0.6674\n",
      "Epoch 4/600\n",
      "14/14 [==============================] - 0s 18ms/step - loss: 0.6743 - val_loss: 0.6580\n",
      "Epoch 5/600\n",
      "14/14 [==============================] - 0s 15ms/step - loss: 0.6546 - val_loss: 0.6454\n",
      "Epoch 6/600\n",
      "14/14 [==============================] - 0s 16ms/step - loss: 0.6513 - val_loss: 0.6291\n",
      "Epoch 7/600\n",
      "14/14 [==============================] - 0s 15ms/step - loss: 0.6311 - val_loss: 0.6058\n",
      "Epoch 8/600\n",
      "14/14 [==============================] - 0s 15ms/step - loss: 0.6140 - val_loss: 0.5809\n",
      "Epoch 9/600\n",
      "14/14 [==============================] - 0s 16ms/step - loss: 0.5976 - val_loss: 0.5561\n",
      "Epoch 10/600\n",
      "14/14 [==============================] - 0s 16ms/step - loss: 0.5918 - val_loss: 0.5321\n",
      "Epoch 11/600\n",
      "14/14 [==============================] - 0s 16ms/step - loss: 0.5431 - val_loss: 0.5046\n",
      "Epoch 12/600\n",
      "14/14 [==============================] - 0s 16ms/step - loss: 0.5465 - val_loss: 0.4770\n",
      "Epoch 13/600\n",
      "14/14 [==============================] - 0s 16ms/step - loss: 0.5377 - val_loss: 0.4531\n",
      "Epoch 14/600\n",
      "14/14 [==============================] - 0s 16ms/step - loss: 0.5094 - val_loss: 0.4284\n",
      "Epoch 15/600\n",
      "14/14 [==============================] - 0s 16ms/step - loss: 0.4757 - val_loss: 0.4047\n",
      "Epoch 16/600\n",
      "14/14 [==============================] - 0s 16ms/step - loss: 0.4441 - val_loss: 0.3783\n",
      "Epoch 17/600\n",
      "14/14 [==============================] - 0s 15ms/step - loss: 0.4613 - val_loss: 0.3540\n",
      "Epoch 18/600\n",
      "14/14 [==============================] - 0s 15ms/step - loss: 0.4137 - val_loss: 0.3330\n",
      "Epoch 19/600\n",
      "14/14 [==============================] - 0s 15ms/step - loss: 0.3960 - val_loss: 0.3102\n",
      "Epoch 20/600\n",
      "14/14 [==============================] - 0s 15ms/step - loss: 0.4145 - val_loss: 0.2959\n",
      "Epoch 21/600\n",
      "14/14 [==============================] - 0s 15ms/step - loss: 0.3733 - val_loss: 0.2762\n",
      "Epoch 22/600\n",
      "14/14 [==============================] - 0s 15ms/step - loss: 0.3672 - val_loss: 0.2622\n",
      "Epoch 23/600\n",
      "14/14 [==============================] - 0s 15ms/step - loss: 0.3558 - val_loss: 0.2529\n",
      "Epoch 24/600\n",
      "14/14 [==============================] - 0s 15ms/step - loss: 0.3343 - val_loss: 0.2368\n",
      "Epoch 25/600\n",
      "14/14 [==============================] - 0s 15ms/step - loss: 0.3337 - val_loss: 0.2293\n",
      "Epoch 26/600\n",
      "14/14 [==============================] - 0s 15ms/step - loss: 0.3244 - val_loss: 0.2170\n",
      "Epoch 27/600\n",
      "14/14 [==============================] - 0s 15ms/step - loss: 0.2926 - val_loss: 0.2038\n",
      "Epoch 28/600\n",
      "14/14 [==============================] - 0s 15ms/step - loss: 0.2879 - val_loss: 0.1987\n",
      "Epoch 29/600\n",
      "14/14 [==============================] - 0s 15ms/step - loss: 0.2738 - val_loss: 0.1868\n",
      "Epoch 30/600\n",
      "14/14 [==============================] - 0s 17ms/step - loss: 0.2936 - val_loss: 0.1768\n",
      "Epoch 31/600\n",
      "14/14 [==============================] - 0s 15ms/step - loss: 0.2816 - val_loss: 0.1714\n",
      "Epoch 32/600\n",
      "14/14 [==============================] - 0s 20ms/step - loss: 0.2733 - val_loss: 0.1710\n",
      "Epoch 33/600\n",
      "14/14 [==============================] - 0s 15ms/step - loss: 0.2684 - val_loss: 0.1750\n",
      "Epoch 34/600\n",
      "14/14 [==============================] - 0s 15ms/step - loss: 0.2850 - val_loss: 0.1666\n",
      "Epoch 35/600\n",
      "14/14 [==============================] - 0s 16ms/step - loss: 0.2294 - val_loss: 0.1587\n",
      "Epoch 36/600\n",
      "14/14 [==============================] - 0s 15ms/step - loss: 0.2462 - val_loss: 0.1507\n",
      "Epoch 37/600\n",
      "14/14 [==============================] - 0s 16ms/step - loss: 0.2634 - val_loss: 0.1484\n",
      "Epoch 38/600\n",
      "14/14 [==============================] - 0s 16ms/step - loss: 0.2031 - val_loss: 0.1449\n",
      "Epoch 39/600\n",
      "14/14 [==============================] - 0s 15ms/step - loss: 0.2224 - val_loss: 0.1412\n",
      "Epoch 40/600\n",
      "14/14 [==============================] - 0s 17ms/step - loss: 0.2415 - val_loss: 0.1364\n",
      "Epoch 41/600\n",
      "14/14 [==============================] - 0s 16ms/step - loss: 0.2417 - val_loss: 0.1429\n",
      "Epoch 42/600\n",
      "14/14 [==============================] - 0s 15ms/step - loss: 0.2335 - val_loss: 0.1434\n",
      "Epoch 43/600\n",
      "14/14 [==============================] - 0s 16ms/step - loss: 0.2195 - val_loss: 0.1346\n",
      "Epoch 44/600\n",
      "14/14 [==============================] - 0s 16ms/step - loss: 0.2181 - val_loss: 0.1377\n",
      "Epoch 45/600\n",
      "14/14 [==============================] - 0s 16ms/step - loss: 0.2070 - val_loss: 0.1321\n",
      "Epoch 46/600\n",
      "14/14 [==============================] - 0s 17ms/step - loss: 0.2091 - val_loss: 0.1295\n",
      "Epoch 47/600\n",
      "14/14 [==============================] - 0s 15ms/step - loss: 0.1929 - val_loss: 0.1259\n",
      "Epoch 48/600\n",
      "14/14 [==============================] - 0s 16ms/step - loss: 0.1936 - val_loss: 0.1229\n",
      "Epoch 49/600\n",
      "14/14 [==============================] - 0s 19ms/step - loss: 0.1938 - val_loss: 0.1190\n",
      "Epoch 50/600\n",
      "14/14 [==============================] - 0s 15ms/step - loss: 0.1984 - val_loss: 0.1350\n",
      "Epoch 51/600\n",
      "14/14 [==============================] - 0s 18ms/step - loss: 0.1799 - val_loss: 0.1237\n",
      "Epoch 52/600\n",
      "14/14 [==============================] - 0s 16ms/step - loss: 0.1771 - val_loss: 0.1150\n",
      "Epoch 53/600\n",
      "14/14 [==============================] - 0s 16ms/step - loss: 0.1875 - val_loss: 0.1146\n",
      "Epoch 54/600\n",
      "14/14 [==============================] - 0s 16ms/step - loss: 0.1945 - val_loss: 0.1144\n",
      "Epoch 55/600\n",
      "14/14 [==============================] - 0s 17ms/step - loss: 0.1663 - val_loss: 0.1100\n",
      "Epoch 56/600\n",
      "14/14 [==============================] - 0s 15ms/step - loss: 0.1526 - val_loss: 0.1097\n",
      "Epoch 57/600\n",
      "14/14 [==============================] - 0s 16ms/step - loss: 0.1769 - val_loss: 0.1081\n",
      "Epoch 58/600\n",
      "14/14 [==============================] - 0s 18ms/step - loss: 0.1704 - val_loss: 0.1100\n",
      "Epoch 59/600\n",
      "14/14 [==============================] - 0s 15ms/step - loss: 0.1615 - val_loss: 0.1119\n",
      "Epoch 60/600\n",
      "14/14 [==============================] - 0s 19ms/step - loss: 0.1500 - val_loss: 0.1064\n",
      "Epoch 61/600\n",
      "14/14 [==============================] - 0s 16ms/step - loss: 0.1627 - val_loss: 0.1090\n",
      "Epoch 62/600\n",
      "14/14 [==============================] - 0s 17ms/step - loss: 0.1487 - val_loss: 0.1077\n",
      "Epoch 63/600\n",
      "14/14 [==============================] - 0s 16ms/step - loss: 0.1330 - val_loss: 0.1037\n",
      "Epoch 64/600\n",
      "14/14 [==============================] - 0s 17ms/step - loss: 0.1399 - val_loss: 0.1059\n",
      "Epoch 65/600\n",
      "14/14 [==============================] - 0s 16ms/step - loss: 0.1482 - val_loss: 0.1081\n",
      "Epoch 66/600\n",
      "14/14 [==============================] - 0s 20ms/step - loss: 0.1434 - val_loss: 0.1005\n",
      "Epoch 67/600\n",
      "14/14 [==============================] - 0s 18ms/step - loss: 0.1544 - val_loss: 0.0991\n",
      "Epoch 68/600\n",
      "14/14 [==============================] - 0s 16ms/step - loss: 0.1346 - val_loss: 0.0954\n",
      "Epoch 69/600\n",
      "14/14 [==============================] - 0s 16ms/step - loss: 0.1247 - val_loss: 0.1011\n",
      "Epoch 70/600\n",
      "14/14 [==============================] - 0s 17ms/step - loss: 0.1382 - val_loss: 0.1009\n",
      "Epoch 71/600\n",
      "14/14 [==============================] - 0s 16ms/step - loss: 0.1272 - val_loss: 0.0999\n",
      "Epoch 72/600\n",
      "14/14 [==============================] - 0s 16ms/step - loss: 0.1381 - val_loss: 0.1038\n",
      "Epoch 73/600\n",
      "14/14 [==============================] - 0s 16ms/step - loss: 0.1467 - val_loss: 0.0973\n",
      "Epoch 74/600\n",
      "14/14 [==============================] - 0s 16ms/step - loss: 0.1278 - val_loss: 0.0987\n",
      "Epoch 75/600\n",
      "14/14 [==============================] - 0s 21ms/step - loss: 0.1287 - val_loss: 0.1009\n",
      "Epoch 76/600\n",
      "14/14 [==============================] - 0s 17ms/step - loss: 0.1373 - val_loss: 0.0918\n",
      "Epoch 77/600\n",
      "14/14 [==============================] - 0s 17ms/step - loss: 0.1394 - val_loss: 0.0920\n",
      "Epoch 78/600\n",
      "14/14 [==============================] - 0s 17ms/step - loss: 0.1329 - val_loss: 0.0972\n",
      "Epoch 79/600\n",
      "14/14 [==============================] - 0s 19ms/step - loss: 0.1256 - val_loss: 0.0903\n",
      "Epoch 80/600\n",
      "14/14 [==============================] - 0s 16ms/step - loss: 0.1113 - val_loss: 0.0939\n",
      "Epoch 81/600\n",
      "14/14 [==============================] - 0s 15ms/step - loss: 0.1225 - val_loss: 0.1038\n",
      "Epoch 82/600\n"
     ]
    },
    {
     "name": "stdout",
     "output_type": "stream",
     "text": [
      "14/14 [==============================] - 0s 19ms/step - loss: 0.1144 - val_loss: 0.0939\n",
      "Epoch 83/600\n",
      "14/14 [==============================] - 0s 17ms/step - loss: 0.1410 - val_loss: 0.0914\n",
      "Epoch 84/600\n",
      "14/14 [==============================] - 0s 21ms/step - loss: 0.1483 - val_loss: 0.0971\n",
      "Epoch 85/600\n",
      "14/14 [==============================] - 0s 15ms/step - loss: 0.1286 - val_loss: 0.0881\n",
      "Epoch 86/600\n",
      "14/14 [==============================] - 0s 16ms/step - loss: 0.1251 - val_loss: 0.1066\n",
      "Epoch 87/600\n",
      "14/14 [==============================] - 0s 15ms/step - loss: 0.1254 - val_loss: 0.0890\n",
      "Epoch 88/600\n",
      "14/14 [==============================] - 0s 19ms/step - loss: 0.1207 - val_loss: 0.0867\n",
      "Epoch 89/600\n",
      "14/14 [==============================] - 0s 18ms/step - loss: 0.1154 - val_loss: 0.1013\n",
      "Epoch 90/600\n",
      "14/14 [==============================] - 0s 16ms/step - loss: 0.1071 - val_loss: 0.0864\n",
      "Epoch 91/600\n",
      "14/14 [==============================] - 0s 16ms/step - loss: 0.1183 - val_loss: 0.0860\n",
      "Epoch 92/600\n",
      "14/14 [==============================] - 0s 17ms/step - loss: 0.1112 - val_loss: 0.0917\n",
      "Epoch 93/600\n",
      "14/14 [==============================] - 0s 19ms/step - loss: 0.1276 - val_loss: 0.0919\n",
      "Epoch 94/600\n",
      "14/14 [==============================] - 0s 15ms/step - loss: 0.0965 - val_loss: 0.0954\n",
      "Epoch 95/600\n",
      "14/14 [==============================] - 0s 18ms/step - loss: 0.1302 - val_loss: 0.0863\n",
      "Epoch 96/600\n",
      "14/14 [==============================] - 0s 16ms/step - loss: 0.1219 - val_loss: 0.0871\n",
      "Epoch 97/600\n",
      "14/14 [==============================] - 0s 15ms/step - loss: 0.1092 - val_loss: 0.1124\n",
      "Epoch 98/600\n",
      "14/14 [==============================] - 0s 15ms/step - loss: 0.1208 - val_loss: 0.0932\n",
      "Epoch 99/600\n",
      "14/14 [==============================] - 0s 15ms/step - loss: 0.1087 - val_loss: 0.0844\n",
      "Epoch 100/600\n",
      "14/14 [==============================] - 0s 17ms/step - loss: 0.0960 - val_loss: 0.0883\n",
      "Epoch 101/600\n",
      "14/14 [==============================] - 0s 18ms/step - loss: 0.1200 - val_loss: 0.0899\n",
      "Epoch 102/600\n",
      "14/14 [==============================] - 0s 16ms/step - loss: 0.1177 - val_loss: 0.0947\n",
      "Epoch 103/600\n",
      "14/14 [==============================] - 0s 16ms/step - loss: 0.0950 - val_loss: 0.0858\n",
      "Epoch 104/600\n",
      "14/14 [==============================] - 0s 15ms/step - loss: 0.1033 - val_loss: 0.0936\n",
      "Epoch 105/600\n",
      "14/14 [==============================] - 0s 15ms/step - loss: 0.1167 - val_loss: 0.0940\n",
      "Epoch 106/600\n",
      "14/14 [==============================] - 0s 15ms/step - loss: 0.1013 - val_loss: 0.0958\n",
      "Epoch 107/600\n",
      "14/14 [==============================] - 0s 15ms/step - loss: 0.1026 - val_loss: 0.0876\n",
      "Epoch 108/600\n",
      "14/14 [==============================] - 0s 15ms/step - loss: 0.1127 - val_loss: 0.0992\n",
      "Epoch 109/600\n",
      "14/14 [==============================] - 0s 16ms/step - loss: 0.1113 - val_loss: 0.0887\n",
      "Epoch 110/600\n",
      "14/14 [==============================] - 0s 15ms/step - loss: 0.0914 - val_loss: 0.0958\n",
      "Epoch 111/600\n",
      "14/14 [==============================] - 0s 16ms/step - loss: 0.0903 - val_loss: 0.0869\n",
      "Epoch 112/600\n",
      "14/14 [==============================] - 0s 15ms/step - loss: 0.1001 - val_loss: 0.0985\n",
      "Epoch 113/600\n",
      "14/14 [==============================] - 0s 15ms/step - loss: 0.0876 - val_loss: 0.0936\n",
      "Epoch 114/600\n",
      "14/14 [==============================] - 0s 16ms/step - loss: 0.0978 - val_loss: 0.0855\n",
      "Epoch 115/600\n",
      "14/14 [==============================] - 0s 15ms/step - loss: 0.0840 - val_loss: 0.0876\n",
      "Epoch 116/600\n",
      "14/14 [==============================] - 0s 15ms/step - loss: 0.0927 - val_loss: 0.0863\n",
      "Epoch 117/600\n",
      "14/14 [==============================] - 0s 15ms/step - loss: 0.0890 - val_loss: 0.0983\n",
      "Epoch 118/600\n",
      "14/14 [==============================] - 0s 15ms/step - loss: 0.1004 - val_loss: 0.0860\n",
      "Epoch 119/600\n",
      "14/14 [==============================] - 0s 15ms/step - loss: 0.1154 - val_loss: 0.1010\n",
      "Epoch 120/600\n",
      "14/14 [==============================] - 0s 18ms/step - loss: 0.0941 - val_loss: 0.0968\n",
      "Epoch 121/600\n",
      "14/14 [==============================] - 0s 16ms/step - loss: 0.0851 - val_loss: 0.1004\n",
      "Epoch 122/600\n",
      "14/14 [==============================] - 0s 15ms/step - loss: 0.0970 - val_loss: 0.0885\n",
      "Epoch 123/600\n",
      "14/14 [==============================] - 0s 15ms/step - loss: 0.0854 - val_loss: 0.0939\n",
      "Epoch 124/600\n",
      "14/14 [==============================] - 0s 16ms/step - loss: 0.1125 - val_loss: 0.1099\n",
      "Epoch 124: early stopping\n"
     ]
    },
    {
     "data": {
      "text/plain": [
       "<keras.callbacks.History at 0x23c24d25370>"
      ]
     },
     "execution_count": 20,
     "metadata": {},
     "output_type": "execute_result"
    }
   ],
   "source": [
    "model.fit(x=X_train, \n",
    "          y=y_train, \n",
    "          epochs=600,\n",
    "          validation_data=(X_test, y_test), verbose=1,\n",
    "          callbacks=[early_stop,board]\n",
    "          )"
   ]
  },
  {
   "cell_type": "markdown",
   "metadata": {},
   "source": [
    "# Running Tensorboard\n"
   ]
  },
  {
   "cell_type": "markdown",
   "metadata": {},
   "source": [
    "## Running through the Command Line\n",
    "\n",
    "**Watch video to see how to run Tensorboard through a command line call.**"
   ]
  },
  {
   "cell_type": "markdown",
   "metadata": {},
   "source": [
    "Tensorboard will run locally in your browser at [http://localhost:6006/](http://localhost:6006/)\n"
   ]
  },
  {
   "cell_type": "code",
   "execution_count": 21,
   "metadata": {},
   "outputs": [
    {
     "name": "stdout",
     "output_type": "stream",
     "text": [
      "logs\\fit\n"
     ]
    }
   ],
   "source": [
    "print(log_directory)"
   ]
  },
  {
   "cell_type": "code",
   "execution_count": 22,
   "metadata": {},
   "outputs": [
    {
     "data": {
      "text/plain": [
       "'C:\\\\Users\\\\Noman Baig\\\\Documents\\\\python-for-data-science-and-machine-learning-bootcamp\\\\21. Neural networks and  DL'"
      ]
     },
     "execution_count": 22,
     "metadata": {},
     "output_type": "execute_result"
    }
   ],
   "source": [
    "pwd"
   ]
  },
  {
   "cell_type": "markdown",
   "metadata": {},
   "source": [
    "### Use cd at your command line to change directory to the file path reported back by pwd or your current .py file location.\n",
    "### Then run this code at your command line or terminal"
   ]
  },
  {
   "cell_type": "code",
   "execution_count": null,
   "metadata": {},
   "outputs": [],
   "source": [
    "tensorboard --logdir logs\\fit "
   ]
  }
 ],
 "metadata": {
  "kernelspec": {
   "display_name": "Python 3 (ipykernel)",
   "language": "python",
   "name": "python3"
  },
  "language_info": {
   "codemirror_mode": {
    "name": "ipython",
    "version": 3
   },
   "file_extension": ".py",
   "mimetype": "text/x-python",
   "name": "python",
   "nbconvert_exporter": "python",
   "pygments_lexer": "ipython3",
   "version": "3.9.12"
  }
 },
 "nbformat": 4,
 "nbformat_minor": 2
}
