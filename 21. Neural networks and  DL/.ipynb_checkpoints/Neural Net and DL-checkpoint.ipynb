{
 "cells": [
  {
   "cell_type": "markdown",
   "id": "608f345b",
   "metadata": {},
   "source": [
    "# NOTES"
   ]
  },
  {
   "cell_type": "code",
   "execution_count": 1,
   "id": "8b842ed4",
   "metadata": {},
   "outputs": [],
   "source": [
    "#multi-layer perceptron model is Artificial Neural Network ANN"
   ]
  },
  {
   "cell_type": "code",
   "execution_count": 2,
   "id": "5e273b0c",
   "metadata": {},
   "outputs": [],
   "source": [
    "#perceptron is known as neuron in short"
   ]
  },
  {
   "cell_type": "code",
   "execution_count": 3,
   "id": "66bc96fe",
   "metadata": {},
   "outputs": [],
   "source": [
    "#layers between input and output are hidden layers"
   ]
  },
  {
   "cell_type": "code",
   "execution_count": 4,
   "id": "85ceaa33",
   "metadata": {},
   "outputs": [],
   "source": [
    "#two or more hidden layers are known as deep neural networks"
   ]
  },
  {
   "cell_type": "code",
   "execution_count": 5,
   "id": "63e3549d",
   "metadata": {},
   "outputs": [],
   "source": [
    "#a neural network is simply a collection of Neurons(also known as activations)"
   ]
  },
  {
   "cell_type": "code",
   "execution_count": 6,
   "id": "f4e78630",
   "metadata": {},
   "outputs": [],
   "source": [
    "#The Universal Approximation Theorem tells us that Neural Networks has a kind of universality i.e. no matter what f(x) is,\n",
    "#there is a network that can approximately approach the result and do the job! \n",
    "#This result holds for any number of inputs and outputs."
   ]
  },
  {
   "cell_type": "code",
   "execution_count": 7,
   "id": "6da90010",
   "metadata": {},
   "outputs": [],
   "source": [
    "#an activation function is a function that is added into an artificial neural network\n",
    "#in order to help the network learn complex patterns in the data."
   ]
  },
  {
   "cell_type": "code",
   "execution_count": 1,
   "id": "e66e495f",
   "metadata": {},
   "outputs": [],
   "source": [
    "#rectified linear unit ReLU is equal to zero when less than zero\n",
    "#when greater than zero it becomes equal to value of z"
   ]
  },
  {
   "cell_type": "code",
   "execution_count": 2,
   "id": "3735c730",
   "metadata": {},
   "outputs": [],
   "source": [
    "#The vanishing gradient problem is caused by the derivative of the activation function used to create the neural network. \n",
    "#The simplest solution to the problem is to replace the activation function of the network. \n",
    "#Instead of sigmoid, use an activation function such as ReLU."
   ]
  },
  {
   "cell_type": "code",
   "execution_count": 6,
   "id": "6dfe8cfb",
   "metadata": {},
   "outputs": [],
   "source": [
    "#in multiclass situation output layer has multiple neurons"
   ]
  },
  {
   "cell_type": "code",
   "execution_count": 11,
   "id": "4b6692d0",
   "metadata": {},
   "outputs": [],
   "source": [
    "#A cost function is an important parameter that determines how well a machine learning model performs for a given dataset. \n",
    "#It calculates the difference between the expected value and predicted value and represents it as a single real number."
   ]
  },
  {
   "cell_type": "code",
   "execution_count": 7,
   "id": "0c328f19",
   "metadata": {},
   "outputs": [],
   "source": [
    "#gradient descent is widely used in machine learning models to find the best parameters that minimize the model's cost function."
   ]
  },
  {
   "cell_type": "code",
   "execution_count": 8,
   "id": "3f40401c",
   "metadata": {},
   "outputs": [],
   "source": [
    "#Adam is a replacement optimization algorithm for stochastic gradient descent for training deep learning models. \n",
    "#Adam combines the best properties of the AdaGrad and RMSProp algorithms to provide an optimization algorithm \n",
    "#that can handle sparse gradients on noisy problems."
   ]
  },
  {
   "cell_type": "code",
   "execution_count": 9,
   "id": "f48d78ac",
   "metadata": {},
   "outputs": [],
   "source": [
    "#Cross-entropy loss is calculated by taking the difference between our prediction and actual output. \n",
    "#We then multiply that value with `-y * ln(y)`. This means we take a negative number, \n",
    "#raise it to the power of the logarithm of y (which will be positive), and then subtract this from our original calculation."
   ]
  },
  {
   "cell_type": "code",
   "execution_count": 10,
   "id": "1dcc4a0c",
   "metadata": {},
   "outputs": [],
   "source": [
    "#Back-propagation is the essence of neural net training. \n",
    "#It is the practice of fine-tuning the weights of a neural net based on the error rate (i.e. loss) obtained in the previous epoch (i.e. iteration). \n",
    "#Proper tuning of the weights ensures lower error rates, making the model reliable by increasing its generalization."
   ]
  },
  {
   "cell_type": "code",
   "execution_count": null,
   "id": "92883088",
   "metadata": {},
   "outputs": [],
   "source": []
  }
 ],
 "metadata": {
  "kernelspec": {
   "display_name": "Python 3 (ipykernel)",
   "language": "python",
   "name": "python3"
  },
  "language_info": {
   "codemirror_mode": {
    "name": "ipython",
    "version": 3
   },
   "file_extension": ".py",
   "mimetype": "text/x-python",
   "name": "python",
   "nbconvert_exporter": "python",
   "pygments_lexer": "ipython3",
   "version": "3.9.12"
  }
 },
 "nbformat": 4,
 "nbformat_minor": 5
}
