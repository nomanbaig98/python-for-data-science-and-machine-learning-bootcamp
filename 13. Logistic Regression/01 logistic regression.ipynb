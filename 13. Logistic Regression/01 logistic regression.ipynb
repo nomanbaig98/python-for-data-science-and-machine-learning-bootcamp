{
 "cells": [
  {
   "cell_type": "code",
   "execution_count": 1,
   "id": "dffb3a58",
   "metadata": {},
   "outputs": [],
   "source": [
    "#logistic regression means in which category the current observation lies to based on training data"
   ]
  },
  {
   "cell_type": "code",
   "execution_count": 2,
   "id": "b34be247",
   "metadata": {},
   "outputs": [],
   "source": [
    "#confusion matrix is a table used to describe performance of classification model on a set of test data for which true values are already known"
   ]
  },
  {
   "cell_type": "code",
   "execution_count": null,
   "id": "bef1c850",
   "metadata": {},
   "outputs": [],
   "source": [
    "# accuracy -> TP + TN / total\n",
    "\n",
    "\n",
    "# model error | misclassification rate -> FP + FN / total"
   ]
  }
 ],
 "metadata": {
  "kernelspec": {
   "display_name": "Python 3 (ipykernel)",
   "language": "python",
   "name": "python3"
  },
  "language_info": {
   "codemirror_mode": {
    "name": "ipython",
    "version": 3
   },
   "file_extension": ".py",
   "mimetype": "text/x-python",
   "name": "python",
   "nbconvert_exporter": "python",
   "pygments_lexer": "ipython3",
   "version": "3.9.7"
  }
 },
 "nbformat": 4,
 "nbformat_minor": 5
}
